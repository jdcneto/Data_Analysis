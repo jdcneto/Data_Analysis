{
  "nbformat": 4,
  "nbformat_minor": 5,
  "metadata": {
    "kernelspec": {
      "display_name": "Python 3",
      "language": "python",
      "name": "python3"
    },
    "language_info": {
      "codemirror_mode": {
        "name": "ipython",
        "version": 3
      },
      "file_extension": ".py",
      "mimetype": "text/x-python",
      "name": "python",
      "nbconvert_exporter": "python",
      "pygments_lexer": "ipython3",
      "version": "3.8.8"
    },
    "colab": {
      "name": "analise_de_dados_final.ipynb",
      "provenance": [],
      "collapsed_sections": []
    }
  },
  "cells": [
    {
      "cell_type": "markdown",
      "metadata": {
        "id": "f8c16ccc"
      },
      "source": [
        "### 1- Coleta de dados"
      ],
      "id": "f8c16ccc"
    },
    {
      "cell_type": "code",
      "metadata": {
        "id": "babd2cde"
      },
      "source": [
        "#importando os pacotes\n",
        "import pandas as pd\n",
        "import numpy as np\n",
        "import matplotlib.pyplot as plt\n",
        "import seaborn as sns\n",
        "%matplotlib inline"
      ],
      "id": "babd2cde",
      "execution_count": 1,
      "outputs": []
    },
    {
      "cell_type": "code",
      "metadata": {
        "id": "a36afa62"
      },
      "source": [
        "#import dataset\n",
        "df = pd.read_csv('StudentsPerformance.csv')"
      ],
      "id": "a36afa62",
      "execution_count": 2,
      "outputs": []
    },
    {
      "cell_type": "code",
      "metadata": {
        "colab": {
          "base_uri": "https://localhost:8080/"
        },
        "id": "5e2302cf",
        "outputId": "65121bc1-3f65-43aa-e68d-647b5abe3af6"
      },
      "source": [
        "#Informações a respeito do número de linhas e colunas\n",
        "print(f'Número de observações do dataset: {df.shape[0]}\\nNúmero de features: {df.shape[1]}') "
      ],
      "id": "5e2302cf",
      "execution_count": 3,
      "outputs": [
        {
          "output_type": "stream",
          "name": "stdout",
          "text": [
            "Número de observações do dataset: 1000\n",
            "Número de features: 8\n"
          ]
        }
      ]
    },
    {
      "cell_type": "markdown",
      "metadata": {
        "id": "831685d2"
      },
      "source": [
        "### 2- Pré processamento dos dados"
      ],
      "id": "831685d2"
    },
    {
      "cell_type": "code",
      "metadata": {
        "id": "90eacbea",
        "outputId": "8f77dcf1-03d2-46a7-ba59-f54913195f1f"
      },
      "source": [
        "df.head()"
      ],
      "id": "90eacbea",
      "execution_count": null,
      "outputs": [
        {
          "data": {
            "text/html": [
              "<div>\n",
              "<style scoped>\n",
              "    .dataframe tbody tr th:only-of-type {\n",
              "        vertical-align: middle;\n",
              "    }\n",
              "\n",
              "    .dataframe tbody tr th {\n",
              "        vertical-align: top;\n",
              "    }\n",
              "\n",
              "    .dataframe thead th {\n",
              "        text-align: right;\n",
              "    }\n",
              "</style>\n",
              "<table border=\"1\" class=\"dataframe\">\n",
              "  <thead>\n",
              "    <tr style=\"text-align: right;\">\n",
              "      <th></th>\n",
              "      <th>gender</th>\n",
              "      <th>race/ethnicity</th>\n",
              "      <th>parental level of education</th>\n",
              "      <th>lunch</th>\n",
              "      <th>test preparation course</th>\n",
              "      <th>math score</th>\n",
              "      <th>reading score</th>\n",
              "      <th>writing score</th>\n",
              "    </tr>\n",
              "  </thead>\n",
              "  <tbody>\n",
              "    <tr>\n",
              "      <th>0</th>\n",
              "      <td>female</td>\n",
              "      <td>group B</td>\n",
              "      <td>bachelor's degree</td>\n",
              "      <td>standard</td>\n",
              "      <td>none</td>\n",
              "      <td>72</td>\n",
              "      <td>72</td>\n",
              "      <td>74</td>\n",
              "    </tr>\n",
              "    <tr>\n",
              "      <th>1</th>\n",
              "      <td>female</td>\n",
              "      <td>group C</td>\n",
              "      <td>some college</td>\n",
              "      <td>standard</td>\n",
              "      <td>completed</td>\n",
              "      <td>69</td>\n",
              "      <td>90</td>\n",
              "      <td>88</td>\n",
              "    </tr>\n",
              "    <tr>\n",
              "      <th>2</th>\n",
              "      <td>female</td>\n",
              "      <td>group B</td>\n",
              "      <td>master's degree</td>\n",
              "      <td>standard</td>\n",
              "      <td>none</td>\n",
              "      <td>90</td>\n",
              "      <td>95</td>\n",
              "      <td>93</td>\n",
              "    </tr>\n",
              "    <tr>\n",
              "      <th>3</th>\n",
              "      <td>male</td>\n",
              "      <td>group A</td>\n",
              "      <td>associate's degree</td>\n",
              "      <td>free/reduced</td>\n",
              "      <td>none</td>\n",
              "      <td>47</td>\n",
              "      <td>57</td>\n",
              "      <td>44</td>\n",
              "    </tr>\n",
              "    <tr>\n",
              "      <th>4</th>\n",
              "      <td>male</td>\n",
              "      <td>group C</td>\n",
              "      <td>some college</td>\n",
              "      <td>standard</td>\n",
              "      <td>none</td>\n",
              "      <td>76</td>\n",
              "      <td>78</td>\n",
              "      <td>75</td>\n",
              "    </tr>\n",
              "  </tbody>\n",
              "</table>\n",
              "</div>"
            ],
            "text/plain": [
              "   gender race/ethnicity parental level of education         lunch  \\\n",
              "0  female        group B           bachelor's degree      standard   \n",
              "1  female        group C                some college      standard   \n",
              "2  female        group B             master's degree      standard   \n",
              "3    male        group A          associate's degree  free/reduced   \n",
              "4    male        group C                some college      standard   \n",
              "\n",
              "  test preparation course  math score  reading score  writing score  \n",
              "0                    none          72             72             74  \n",
              "1               completed          69             90             88  \n",
              "2                    none          90             95             93  \n",
              "3                    none          47             57             44  \n",
              "4                    none          76             78             75  "
            ]
          },
          "execution_count": 86,
          "metadata": {},
          "output_type": "execute_result"
        }
      ]
    },
    {
      "cell_type": "code",
      "metadata": {
        "scrolled": true,
        "id": "5adb0784",
        "outputId": "bdbf8913-7758-4f28-f9f0-93210b6451c1"
      },
      "source": [
        "df.info(memory_usage=False)"
      ],
      "id": "5adb0784",
      "execution_count": null,
      "outputs": [
        {
          "name": "stdout",
          "output_type": "stream",
          "text": [
            "<class 'pandas.core.frame.DataFrame'>\n",
            "RangeIndex: 1000 entries, 0 to 999\n",
            "Data columns (total 8 columns):\n",
            " #   Column                       Non-Null Count  Dtype \n",
            "---  ------                       --------------  ----- \n",
            " 0   gender                       1000 non-null   object\n",
            " 1   race/ethnicity               1000 non-null   object\n",
            " 2   parental level of education  1000 non-null   object\n",
            " 3   lunch                        1000 non-null   object\n",
            " 4   test preparation course      1000 non-null   object\n",
            " 5   math score                   1000 non-null   int64 \n",
            " 6   reading score                1000 non-null   int64 \n",
            " 7   writing score                1000 non-null   int64 \n",
            "dtypes: int64(3), object(5)"
          ]
        }
      ]
    },
    {
      "cell_type": "markdown",
      "metadata": {
        "id": "f8d7b85b"
      },
      "source": [
        "**Verificando se há dados ausentes**"
      ],
      "id": "f8d7b85b"
    },
    {
      "cell_type": "code",
      "metadata": {
        "colab": {
          "base_uri": "https://localhost:8080/"
        },
        "id": "15d3cf83",
        "outputId": "133e1814-1542-4aec-97b2-5a3e9a7f8713"
      },
      "source": [
        "print('existem valores ausentes?',df.isnull().values.any())"
      ],
      "id": "15d3cf83",
      "execution_count": 4,
      "outputs": [
        {
          "output_type": "stream",
          "name": "stdout",
          "text": [
            "existem valores ausentes? False\n"
          ]
        }
      ]
    },
    {
      "cell_type": "code",
      "metadata": {
        "colab": {
          "base_uri": "https://localhost:8080/"
        },
        "id": "jMYDM0wM3egD",
        "outputId": "13072c49-767d-4070-e6a8-b43bf6ab18dc"
      },
      "source": [
        "df.isnull().sum()"
      ],
      "id": "jMYDM0wM3egD",
      "execution_count": 7,
      "outputs": [
        {
          "output_type": "execute_result",
          "data": {
            "text/plain": [
              "gender                         0\n",
              "race/ethnicity                 0\n",
              "parental level of education    0\n",
              "lunch                          0\n",
              "test preparation course        0\n",
              "math score                     0\n",
              "reading score                  0\n",
              "writing score                  0\n",
              "dtype: int64"
            ]
          },
          "metadata": {},
          "execution_count": 7
        }
      ]
    },
    {
      "cell_type": "markdown",
      "metadata": {
        "id": "bHYxvVLXF98Q"
      },
      "source": [
        "**Verificando se há outliers nas notas**"
      ],
      "id": "bHYxvVLXF98Q"
    },
    {
      "cell_type": "code",
      "metadata": {
        "colab": {
          "base_uri": "https://localhost:8080/"
        },
        "id": "lXDClmtN3W2k",
        "outputId": "312b736b-13f7-4b63-ab25-f825f1f89f61"
      },
      "source": [
        "#Menor e maior nota possível, respectivamente, são 0 e 100\n",
        "#notas de Math\n",
        "print('math score > 100 ou math score < 0 - ',((df['math score'] > 100) | (df['math score'] < 0)).any())\n",
        "outlier_math_score = df[df['math score'] > 100]\n",
        "print('Outliear data:\\n', outlier_math_score['math score'].head())\n",
        "df = df.drop(df[((df['math score'] > 100) | (df['math score'] < 0))].index)\n",
        "print('math score > 100 ou math score < 0 - ',((df['math score'] > 100) | (df['math score'] < 0)).any())\n",
        "#notas de reading\n",
        "print('reading score > 100 ou reading score < 0 - ',((df['reading score'] > 100) | (df['reading score'] < 0)).any())\n",
        "outlier_reading_score = df[df['reading score'] > 100]\n",
        "print('Outliear data:\\n', outlier_reading_score['reading score'].head())\n",
        "df = df.drop(df[((df['reading score'] > 100) | (df['reading score'] < 0))].index)\n",
        "print('reading score > 100 ou reading score < 0 - ',((df['reading score'] > 100) | (df['reading score'] < 0)).any())\n",
        "#notas de writing\n",
        "print('writing score > 100 ou writing score < 0 - ',((df['writing score'] > 100) | (df['writing score'] < 0)).any())\n",
        "outlier_writing_score = df[df['writing score'] > 100]\n",
        "print('Outliear data:\\n', outlier_writing_score['writing score'].head())\n",
        "df = df.drop(df[((df['writing score'] > 100) | (df['writing score'] < 0))].index)\n",
        "print('writing score > 100 ou writing score < 0 - ',((df['writing score'] > 100) | (df['writing score'] < 0)).any())\n"
      ],
      "id": "lXDClmtN3W2k",
      "execution_count": 26,
      "outputs": [
        {
          "output_type": "stream",
          "name": "stdout",
          "text": [
            "math score > 100 ou math score < 0 -  False\n",
            "Outliear data:\n",
            " Series([], Name: math score, dtype: int64)\n",
            "math score > 100 ou math score < 0 -  False\n",
            "reading score > 100 ou reading score < 0 -  False\n",
            "Outliear data:\n",
            " Series([], Name: reading score, dtype: int64)\n",
            "reading score > 100 ou reading score < 0 -  False\n",
            "writing score > 100 ou writing score < 0 -  False\n",
            "Outliear data:\n",
            " Series([], Name: writing score, dtype: int64)\n",
            "writing score > 100 ou writing score < 0 -  False\n"
          ]
        }
      ]
    },
    {
      "cell_type": "markdown",
      "metadata": {
        "id": "ce080fd3"
      },
      "source": [
        "**Mudando o tipo dos dados**"
      ],
      "id": "ce080fd3"
    },
    {
      "cell_type": "code",
      "metadata": {
        "id": "7f5a56ad",
        "outputId": "c40b3fa6-36b4-4270-883c-6e14e5402fe8"
      },
      "source": [
        "df['gender'] = df['gender'].astype('category')\n",
        "df['race/ethnicity'] = df['race/ethnicity'].astype('category')\n",
        "df['lunch'] = df['lunch'].astype('category')\n",
        "df['parental level of education'] = df['parental level of education'].astype('category')\n",
        "df['test preparation course'] = df['test preparation course'].astype('category')\n",
        "\n",
        "df.info(memory_usage=False)"
      ],
      "id": "7f5a56ad",
      "execution_count": null,
      "outputs": [
        {
          "name": "stdout",
          "output_type": "stream",
          "text": [
            "<class 'pandas.core.frame.DataFrame'>\n",
            "RangeIndex: 1000 entries, 0 to 999\n",
            "Data columns (total 8 columns):\n",
            " #   Column                       Non-Null Count  Dtype   \n",
            "---  ------                       --------------  -----   \n",
            " 0   gender                       1000 non-null   category\n",
            " 1   race/ethnicity               1000 non-null   category\n",
            " 2   parental level of education  1000 non-null   category\n",
            " 3   lunch                        1000 non-null   category\n",
            " 4   test preparation course      1000 non-null   category\n",
            " 5   math score                   1000 non-null   int64   \n",
            " 6   reading score                1000 non-null   int64   \n",
            " 7   writing score                1000 non-null   int64   \n",
            "dtypes: category(5), int64(3)\n",
            "memory usage: 29.2 KB\n"
          ]
        }
      ]
    },
    {
      "cell_type": "markdown",
      "metadata": {
        "id": "71565d30"
      },
      "source": [
        "**Adicionando mais uma coluna: conceito final.**   \n",
        "Relação obtida a partir da média dos conceitos das três notas:   \n",
        "1) média $\\geq$ 90 $\\rightarrow$ conceito 'A'    \n",
        "2) 80 $\\leq$ média $<$ 90 $\\rightarrow$ conceito 'B'    \n",
        "3) 70 $\\leq$ média $<$ 80 $\\rightarrow$ conceito 'C'    \n",
        "4) 60 $\\leq$ média $<$ 70 $\\rightarrow$ conceito 'D'    \n",
        "5) média $\\leq$ 60 $\\rightarrow$ conceito 'F'    "
      ],
      "id": "71565d30"
    },
    {
      "cell_type": "code",
      "metadata": {
        "id": "11ccd09f",
        "outputId": "368e484c-b545-4d35-b435-43e77c8f5807"
      },
      "source": [
        "df['final grade'] = 'nan'\n",
        "\n",
        "df.loc[(df.mean(axis=1) >= 90), 'final grade'] = 'A' \n",
        "df.loc[(df.mean(axis=1) >= 80) & (df.mean(axis=1) < 90), 'final grade'] = 'B' \n",
        "df.loc[(df.mean(axis=1) >= 70) & (df.mean(axis=1) < 80), 'final grade'] = 'C' \n",
        "df.loc[(df.mean(axis=1) >= 60) & (df.mean(axis=1) < 70), 'final grade'] = 'D' \n",
        "df.loc[(df.mean(axis=1) >= 0)  & (df.mean(axis=1) < 60), 'final grade'] = 'F' \n",
        "\n",
        "df.head()"
      ],
      "id": "11ccd09f",
      "execution_count": null,
      "outputs": [
        {
          "data": {
            "text/html": [
              "<div>\n",
              "<style scoped>\n",
              "    .dataframe tbody tr th:only-of-type {\n",
              "        vertical-align: middle;\n",
              "    }\n",
              "\n",
              "    .dataframe tbody tr th {\n",
              "        vertical-align: top;\n",
              "    }\n",
              "\n",
              "    .dataframe thead th {\n",
              "        text-align: right;\n",
              "    }\n",
              "</style>\n",
              "<table border=\"1\" class=\"dataframe\">\n",
              "  <thead>\n",
              "    <tr style=\"text-align: right;\">\n",
              "      <th></th>\n",
              "      <th>gender</th>\n",
              "      <th>race/ethnicity</th>\n",
              "      <th>parental level of education</th>\n",
              "      <th>lunch</th>\n",
              "      <th>test preparation course</th>\n",
              "      <th>math score</th>\n",
              "      <th>reading score</th>\n",
              "      <th>writing score</th>\n",
              "      <th>final grade</th>\n",
              "    </tr>\n",
              "  </thead>\n",
              "  <tbody>\n",
              "    <tr>\n",
              "      <th>0</th>\n",
              "      <td>female</td>\n",
              "      <td>group B</td>\n",
              "      <td>bachelor's degree</td>\n",
              "      <td>standard</td>\n",
              "      <td>none</td>\n",
              "      <td>72</td>\n",
              "      <td>72</td>\n",
              "      <td>74</td>\n",
              "      <td>C</td>\n",
              "    </tr>\n",
              "    <tr>\n",
              "      <th>1</th>\n",
              "      <td>female</td>\n",
              "      <td>group C</td>\n",
              "      <td>some college</td>\n",
              "      <td>standard</td>\n",
              "      <td>completed</td>\n",
              "      <td>69</td>\n",
              "      <td>90</td>\n",
              "      <td>88</td>\n",
              "      <td>B</td>\n",
              "    </tr>\n",
              "    <tr>\n",
              "      <th>2</th>\n",
              "      <td>female</td>\n",
              "      <td>group B</td>\n",
              "      <td>master's degree</td>\n",
              "      <td>standard</td>\n",
              "      <td>none</td>\n",
              "      <td>90</td>\n",
              "      <td>95</td>\n",
              "      <td>93</td>\n",
              "      <td>A</td>\n",
              "    </tr>\n",
              "    <tr>\n",
              "      <th>3</th>\n",
              "      <td>male</td>\n",
              "      <td>group A</td>\n",
              "      <td>associate's degree</td>\n",
              "      <td>free/reduced</td>\n",
              "      <td>none</td>\n",
              "      <td>47</td>\n",
              "      <td>57</td>\n",
              "      <td>44</td>\n",
              "      <td>F</td>\n",
              "    </tr>\n",
              "    <tr>\n",
              "      <th>4</th>\n",
              "      <td>male</td>\n",
              "      <td>group C</td>\n",
              "      <td>some college</td>\n",
              "      <td>standard</td>\n",
              "      <td>none</td>\n",
              "      <td>76</td>\n",
              "      <td>78</td>\n",
              "      <td>75</td>\n",
              "      <td>C</td>\n",
              "    </tr>\n",
              "  </tbody>\n",
              "</table>\n",
              "</div>"
            ],
            "text/plain": [
              "   gender race/ethnicity parental level of education         lunch  \\\n",
              "0  female        group B           bachelor's degree      standard   \n",
              "1  female        group C                some college      standard   \n",
              "2  female        group B             master's degree      standard   \n",
              "3    male        group A          associate's degree  free/reduced   \n",
              "4    male        group C                some college      standard   \n",
              "\n",
              "  test preparation course  math score  reading score  writing score  \\\n",
              "0                    none          72             72             74   \n",
              "1               completed          69             90             88   \n",
              "2                    none          90             95             93   \n",
              "3                    none          47             57             44   \n",
              "4                    none          76             78             75   \n",
              "\n",
              "  final grade  \n",
              "0           C  \n",
              "1           B  \n",
              "2           A  \n",
              "3           F  \n",
              "4           C  "
            ]
          },
          "execution_count": 148,
          "metadata": {},
          "output_type": "execute_result"
        }
      ]
    },
    {
      "cell_type": "markdown",
      "metadata": {
        "id": "abc68137"
      },
      "source": [
        "Separando por sexo:"
      ],
      "id": "abc68137"
    },
    {
      "cell_type": "code",
      "metadata": {
        "id": "b39838de",
        "outputId": "713da66c-03ea-4408-dc55-b1f39e9abade"
      },
      "source": [
        "female_idx = df[df['gender']=='female'].index\n",
        "male_idx = df[df['gender']=='male'].index\n",
        "male_df = df.loc[male_idx]\n",
        "female_df = df.loc[female_idx]\n",
        "\n",
        "len(male_df), len(female_df)"
      ],
      "id": "b39838de",
      "execution_count": null,
      "outputs": [
        {
          "data": {
            "text/plain": [
              "(482, 518)"
            ]
          },
          "execution_count": 149,
          "metadata": {},
          "output_type": "execute_result"
        }
      ]
    },
    {
      "cell_type": "markdown",
      "metadata": {
        "id": "436ae84f"
      },
      "source": [
        "### Visualização Preliminar dos dados"
      ],
      "id": "436ae84f"
    },
    {
      "cell_type": "markdown",
      "metadata": {
        "id": "632234bd"
      },
      "source": [
        "**Estatística dos dados**"
      ],
      "id": "632234bd"
    },
    {
      "cell_type": "code",
      "metadata": {
        "id": "226ee172",
        "outputId": "fd68a8c4-6084-45bc-bfab-e63a6082b0a8"
      },
      "source": [
        "df[['math score', 'reading score', 'writing score']].describe()"
      ],
      "id": "226ee172",
      "execution_count": null,
      "outputs": [
        {
          "data": {
            "text/html": [
              "<div>\n",
              "<style scoped>\n",
              "    .dataframe tbody tr th:only-of-type {\n",
              "        vertical-align: middle;\n",
              "    }\n",
              "\n",
              "    .dataframe tbody tr th {\n",
              "        vertical-align: top;\n",
              "    }\n",
              "\n",
              "    .dataframe thead th {\n",
              "        text-align: right;\n",
              "    }\n",
              "</style>\n",
              "<table border=\"1\" class=\"dataframe\">\n",
              "  <thead>\n",
              "    <tr style=\"text-align: right;\">\n",
              "      <th></th>\n",
              "      <th>math score</th>\n",
              "      <th>reading score</th>\n",
              "      <th>writing score</th>\n",
              "    </tr>\n",
              "  </thead>\n",
              "  <tbody>\n",
              "    <tr>\n",
              "      <th>count</th>\n",
              "      <td>1000.00000</td>\n",
              "      <td>1000.000000</td>\n",
              "      <td>1000.000000</td>\n",
              "    </tr>\n",
              "    <tr>\n",
              "      <th>mean</th>\n",
              "      <td>66.08900</td>\n",
              "      <td>69.169000</td>\n",
              "      <td>68.054000</td>\n",
              "    </tr>\n",
              "    <tr>\n",
              "      <th>std</th>\n",
              "      <td>15.16308</td>\n",
              "      <td>14.600192</td>\n",
              "      <td>15.195657</td>\n",
              "    </tr>\n",
              "    <tr>\n",
              "      <th>min</th>\n",
              "      <td>0.00000</td>\n",
              "      <td>17.000000</td>\n",
              "      <td>10.000000</td>\n",
              "    </tr>\n",
              "    <tr>\n",
              "      <th>25%</th>\n",
              "      <td>57.00000</td>\n",
              "      <td>59.000000</td>\n",
              "      <td>57.750000</td>\n",
              "    </tr>\n",
              "    <tr>\n",
              "      <th>50%</th>\n",
              "      <td>66.00000</td>\n",
              "      <td>70.000000</td>\n",
              "      <td>69.000000</td>\n",
              "    </tr>\n",
              "    <tr>\n",
              "      <th>75%</th>\n",
              "      <td>77.00000</td>\n",
              "      <td>79.000000</td>\n",
              "      <td>79.000000</td>\n",
              "    </tr>\n",
              "    <tr>\n",
              "      <th>max</th>\n",
              "      <td>100.00000</td>\n",
              "      <td>100.000000</td>\n",
              "      <td>100.000000</td>\n",
              "    </tr>\n",
              "  </tbody>\n",
              "</table>\n",
              "</div>"
            ],
            "text/plain": [
              "       math score  reading score  writing score\n",
              "count  1000.00000    1000.000000    1000.000000\n",
              "mean     66.08900      69.169000      68.054000\n",
              "std      15.16308      14.600192      15.195657\n",
              "min       0.00000      17.000000      10.000000\n",
              "25%      57.00000      59.000000      57.750000\n",
              "50%      66.00000      70.000000      69.000000\n",
              "75%      77.00000      79.000000      79.000000\n",
              "max     100.00000     100.000000     100.000000"
            ]
          },
          "execution_count": 89,
          "metadata": {},
          "output_type": "execute_result"
        }
      ]
    },
    {
      "cell_type": "code",
      "metadata": {
        "id": "16b4a19e",
        "outputId": "ee112dec-2b1c-4226-e026-cfdaae872af5"
      },
      "source": [
        "sns.boxplot(data=df);"
      ],
      "id": "16b4a19e",
      "execution_count": null,
      "outputs": [
        {
          "data": {
            "image/png": "[encoded data removed]",
            "text/plain": [
              "<Figure size 432x288 with 1 Axes>"
            ]
          },
          "metadata": {
            "needs_background": "light"
          },
          "output_type": "display_data"
        }
      ]
    },
    {
      "cell_type": "markdown",
      "metadata": {
        "id": "7f1fed4e"
      },
      "source": [
        "**Visualizando as distribuições e relacões dos dados**"
      ],
      "id": "7f1fed4e"
    },
    {
      "cell_type": "markdown",
      "metadata": {
        "id": "66d2d29b"
      },
      "source": [
        "**Relação das notas com os alunos**"
      ],
      "id": "66d2d29b"
    },
    {
      "cell_type": "code",
      "metadata": {
        "id": "6db648d0",
        "outputId": "0987f418-3e76-49d1-dcdd-497a66dd5631"
      },
      "source": [
        "sns.pairplot(df);"
      ],
      "id": "6db648d0",
      "execution_count": null,
      "outputs": [
        {
          "data": {
            "image/png": "[encoded data removed]",
            "text/plain": [
              "<Figure size 540x540 with 12 Axes>"
            ]
          },
          "metadata": {
            "needs_background": "light"
          },
          "output_type": "display_data"
        }
      ]
    },
    {
      "cell_type": "markdown",
      "metadata": {
        "id": "9a1bf707"
      },
      "source": [
        "**Observações**: os dados apresentam um assimetria para esquerda, assimetria negativa. \n",
        "Solução: Uma possível forma de tratar dados assimétricos é por meio de transformações, nesse caso uma transformação do tipo square, $x^2$.      \n",
        "\n",
        "Exemplo de como a transformação square atual na distribuição dos dados onde existe assimetria negativa."
      ],
      "id": "9a1bf707"
    },
    {
      "cell_type": "code",
      "metadata": {
        "id": "3d6961b2",
        "outputId": "4b38f171-3f47-44b2-a5f1-04d3ed0f3f23"
      },
      "source": [
        "plt.figure(figsize=(8,5))\n",
        "plt.subplot(1,2,1)\n",
        "df['math score'].hist(), plt.grid(False)\n",
        "plt.title('Antes da transformação'), plt.xlabel('math score');\n",
        "\n",
        "plt.subplot(1,2,2)\n",
        "plt.title('Após a transformação $x^2$')\n",
        "log_map = df['math score'].apply(np.square)\n",
        "log_map[log_map > 0].hist(), plt.grid(False)\n",
        "plt.xlabel('math score');"
      ],
      "id": "3d6961b2",
      "execution_count": null,
      "outputs": [
        {
          "data": {
            "image/png": "[encoded data removed]",
            "text/plain": [
              "<Figure size 576x360 with 2 Axes>"
            ]
          },
          "metadata": {
            "needs_background": "light"
          },
          "output_type": "display_data"
        }
      ]
    },
    {
      "cell_type": "markdown",
      "metadata": {
        "id": "6dbfda99"
      },
      "source": [
        "Olhando numericamente: Correlação"
      ],
      "id": "6dbfda99"
    },
    {
      "cell_type": "code",
      "metadata": {
        "id": "e5ac6a01",
        "outputId": "5ec8e917-e5b5-4f04-d6cb-612e9ed0dc56"
      },
      "source": [
        "plt.figure(figsize=(5,5))\n",
        "sns.heatmap(corr, annot=True, cmap=\"Reds\")\n",
        "plt.title('Correlation', fontsize=15);"
      ],
      "id": "e5ac6a01",
      "execution_count": null,
      "outputs": [
        {
          "data": {
            "image/png": "[encoded data removed]",
            "text/plain": [
              "<Figure size 360x360 with 2 Axes>"
            ]
          },
          "metadata": {
            "needs_background": "light"
          },
          "output_type": "display_data"
        }
      ]
    },
    {
      "cell_type": "markdown",
      "metadata": {
        "id": "77378761"
      },
      "source": [
        "**Observação**: As notas apresentação correlação alta ($>$ 0,5) e positiva, ou seja, alunos tendem a ter boas notas em ambas as disciplinas. Além disso, alunos com boa escrita apresentam boa leitura, diminuindo o analfabetismo funcional."
      ],
      "id": "77378761"
    },
    {
      "cell_type": "markdown",
      "metadata": {
        "id": "c4fc4979"
      },
      "source": [
        "Breve comparativo do conceito final dos alunos:"
      ],
      "id": "c4fc4979"
    },
    {
      "cell_type": "code",
      "metadata": {
        "id": "b1e96ec7",
        "outputId": "14dace06-4272-4907-de94-c0e95106c6d3"
      },
      "source": [
        "plt.figure(figsize = (10,5))\n",
        "plt.subplot(1,2,1), plt.title('Male Students')\n",
        "sns.countplot(x = male_df['final grade'], data = male_df)\n",
        "\n",
        "plt.subplot(1,2,2), plt.title('Female Students')\n",
        "sns.countplot(x = female_df['final grade'], data = female_df);\n"
      ],
      "id": "b1e96ec7",
      "execution_count": null,
      "outputs": [
        {
          "data": {
            "image/png": "[encoded data removed]",
            "text/plain": [
              "<Figure size 720x360 with 2 Axes>"
            ]
          },
          "metadata": {
            "needs_background": "light"
          },
          "output_type": "display_data"
        }
      ]
    },
    {
      "cell_type": "markdown",
      "metadata": {
        "id": "f8456bc7"
      },
      "source": [
        "## Análise dos alunos do sexo masculino"
      ],
      "id": "f8456bc7"
    },
    {
      "cell_type": "markdown",
      "metadata": {
        "id": "4fb39503"
      },
      "source": [
        "**Relação dos alunos do sexo masculino com as notas**"
      ],
      "id": "4fb39503"
    },
    {
      "cell_type": "code",
      "metadata": {
        "id": "a9050e6f",
        "outputId": "60f5f551-25b0-485b-8fbe-f673d164e56a"
      },
      "source": [
        "sns.pairplot(male_df);"
      ],
      "id": "a9050e6f",
      "execution_count": null,
      "outputs": [
        {
          "data": {
            "image/png": "[encoded data removed]",
            "text/plain": [
              "<Figure size 540x540 with 12 Axes>"
            ]
          },
          "metadata": {
            "needs_background": "light"
          },
          "output_type": "display_data"
        }
      ]
    },
    {
      "cell_type": "markdown",
      "metadata": {
        "id": "c8c693bd"
      },
      "source": [
        "**Relação do nível de escolaridade dos pais com a notas dos alunos do sexo masculino**"
      ],
      "id": "c8c693bd"
    },
    {
      "cell_type": "code",
      "metadata": {
        "id": "20100e1d",
        "outputId": "9af56a15-db40-4df5-b59c-b74dcf433c5a"
      },
      "source": [
        "male_df.groupby('parental level of education').describe().loc[:,(slice(None),['count','mean', 'min','max'])]"
      ],
      "id": "20100e1d",
      "execution_count": null,
      "outputs": [
        {
          "data": {
            "text/html": [
              "<div>\n",
              "<style scoped>\n",
              "    .dataframe tbody tr th:only-of-type {\n",
              "        vertical-align: middle;\n",
              "    }\n",
              "\n",
              "    .dataframe tbody tr th {\n",
              "        vertical-align: top;\n",
              "    }\n",
              "\n",
              "    .dataframe thead tr th {\n",
              "        text-align: left;\n",
              "    }\n",
              "\n",
              "    .dataframe thead tr:last-of-type th {\n",
              "        text-align: right;\n",
              "    }\n",
              "</style>\n",
              "<table border=\"1\" class=\"dataframe\">\n",
              "  <thead>\n",
              "    <tr>\n",
              "      <th></th>\n",
              "      <th colspan=\"4\" halign=\"left\">math score</th>\n",
              "      <th colspan=\"4\" halign=\"left\">reading score</th>\n",
              "      <th colspan=\"4\" halign=\"left\">writing score</th>\n",
              "    </tr>\n",
              "    <tr>\n",
              "      <th></th>\n",
              "      <th>count</th>\n",
              "      <th>mean</th>\n",
              "      <th>min</th>\n",
              "      <th>max</th>\n",
              "      <th>count</th>\n",
              "      <th>mean</th>\n",
              "      <th>min</th>\n",
              "      <th>max</th>\n",
              "      <th>count</th>\n",
              "      <th>mean</th>\n",
              "      <th>min</th>\n",
              "      <th>max</th>\n",
              "    </tr>\n",
              "    <tr>\n",
              "      <th>parental level of education</th>\n",
              "      <th></th>\n",
              "      <th></th>\n",
              "      <th></th>\n",
              "      <th></th>\n",
              "      <th></th>\n",
              "      <th></th>\n",
              "      <th></th>\n",
              "      <th></th>\n",
              "      <th></th>\n",
              "      <th></th>\n",
              "      <th></th>\n",
              "      <th></th>\n",
              "    </tr>\n",
              "  </thead>\n",
              "  <tbody>\n",
              "    <tr>\n",
              "      <th>associate's degree</th>\n",
              "      <td>106.0</td>\n",
              "      <td>70.764151</td>\n",
              "      <td>40.0</td>\n",
              "      <td>100.0</td>\n",
              "      <td>106.0</td>\n",
              "      <td>67.433962</td>\n",
              "      <td>37.0</td>\n",
              "      <td>100.0</td>\n",
              "      <td>106.0</td>\n",
              "      <td>65.405660</td>\n",
              "      <td>35.0</td>\n",
              "      <td>95.0</td>\n",
              "    </tr>\n",
              "    <tr>\n",
              "      <th>bachelor's degree</th>\n",
              "      <td>55.0</td>\n",
              "      <td>70.581818</td>\n",
              "      <td>37.0</td>\n",
              "      <td>100.0</td>\n",
              "      <td>55.0</td>\n",
              "      <td>68.090909</td>\n",
              "      <td>42.0</td>\n",
              "      <td>100.0</td>\n",
              "      <td>55.0</td>\n",
              "      <td>67.654545</td>\n",
              "      <td>38.0</td>\n",
              "      <td>100.0</td>\n",
              "    </tr>\n",
              "    <tr>\n",
              "      <th>high school</th>\n",
              "      <td>102.0</td>\n",
              "      <td>64.705882</td>\n",
              "      <td>27.0</td>\n",
              "      <td>94.0</td>\n",
              "      <td>102.0</td>\n",
              "      <td>61.480392</td>\n",
              "      <td>24.0</td>\n",
              "      <td>91.0</td>\n",
              "      <td>102.0</td>\n",
              "      <td>58.539216</td>\n",
              "      <td>15.0</td>\n",
              "      <td>86.0</td>\n",
              "    </tr>\n",
              "    <tr>\n",
              "      <th>master's degree</th>\n",
              "      <td>23.0</td>\n",
              "      <td>74.826087</td>\n",
              "      <td>46.0</td>\n",
              "      <td>95.0</td>\n",
              "      <td>23.0</td>\n",
              "      <td>73.130435</td>\n",
              "      <td>42.0</td>\n",
              "      <td>89.0</td>\n",
              "      <td>23.0</td>\n",
              "      <td>72.608696</td>\n",
              "      <td>46.0</td>\n",
              "      <td>90.0</td>\n",
              "    </tr>\n",
              "    <tr>\n",
              "      <th>some college</th>\n",
              "      <td>108.0</td>\n",
              "      <td>69.009259</td>\n",
              "      <td>28.0</td>\n",
              "      <td>100.0</td>\n",
              "      <td>108.0</td>\n",
              "      <td>64.990741</td>\n",
              "      <td>23.0</td>\n",
              "      <td>97.0</td>\n",
              "      <td>108.0</td>\n",
              "      <td>63.148148</td>\n",
              "      <td>19.0</td>\n",
              "      <td>99.0</td>\n",
              "    </tr>\n",
              "    <tr>\n",
              "      <th>some high school</th>\n",
              "      <td>88.0</td>\n",
              "      <td>67.840909</td>\n",
              "      <td>30.0</td>\n",
              "      <td>94.0</td>\n",
              "      <td>88.0</td>\n",
              "      <td>64.693182</td>\n",
              "      <td>26.0</td>\n",
              "      <td>88.0</td>\n",
              "      <td>88.0</td>\n",
              "      <td>61.375000</td>\n",
              "      <td>22.0</td>\n",
              "      <td>87.0</td>\n",
              "    </tr>\n",
              "  </tbody>\n",
              "</table>\n",
              "</div>"
            ],
            "text/plain": [
              "                            math score                         reading score  \\\n",
              "                                 count       mean   min    max         count   \n",
              "parental level of education                                                    \n",
              "associate's degree               106.0  70.764151  40.0  100.0         106.0   \n",
              "bachelor's degree                 55.0  70.581818  37.0  100.0          55.0   \n",
              "high school                      102.0  64.705882  27.0   94.0         102.0   \n",
              "master's degree                   23.0  74.826087  46.0   95.0          23.0   \n",
              "some college                     108.0  69.009259  28.0  100.0         108.0   \n",
              "some high school                  88.0  67.840909  30.0   94.0          88.0   \n",
              "\n",
              "                                                    writing score             \\\n",
              "                                  mean   min    max         count       mean   \n",
              "parental level of education                                                    \n",
              "associate's degree           67.433962  37.0  100.0         106.0  65.405660   \n",
              "bachelor's degree            68.090909  42.0  100.0          55.0  67.654545   \n",
              "high school                  61.480392  24.0   91.0         102.0  58.539216   \n",
              "master's degree              73.130435  42.0   89.0          23.0  72.608696   \n",
              "some college                 64.990741  23.0   97.0         108.0  63.148148   \n",
              "some high school             64.693182  26.0   88.0          88.0  61.375000   \n",
              "\n",
              "                                          \n",
              "                              min    max  \n",
              "parental level of education               \n",
              "associate's degree           35.0   95.0  \n",
              "bachelor's degree            38.0  100.0  \n",
              "high school                  15.0   86.0  \n",
              "master's degree              46.0   90.0  \n",
              "some college                 19.0   99.0  \n",
              "some high school             22.0   87.0  "
            ]
          },
          "execution_count": 46,
          "metadata": {},
          "output_type": "execute_result"
        }
      ]
    },
    {
      "cell_type": "markdown",
      "metadata": {
        "id": "C6CDJq45COPb"
      },
      "source": [
        "**Observações:** os alunos do sexo masculino cujos os pais tinham como formação Master's degree obtiveram as maiores médias nas 3 disciplinas. Por outro lado, os alunos cujos pais tinham high school obtiveram as menores médias."
      ],
      "id": "C6CDJq45COPb"
    },
    {
      "cell_type": "markdown",
      "metadata": {
        "id": "ee6e96ba"
      },
      "source": [
        "**Relação do tipo de alimentação com a notas dos alunos do sexo masculino**"
      ],
      "id": "ee6e96ba"
    },
    {
      "cell_type": "code",
      "metadata": {
        "id": "8c4db8d1",
        "outputId": "2d4a2b49-0aa5-463a-d555-c3eecf5b4561"
      },
      "source": [
        "male_df.groupby('lunch').describe().loc[:,(slice(None),['count','mean', 'min','max'])]"
      ],
      "id": "8c4db8d1",
      "execution_count": null,
      "outputs": [
        {
          "data": {
            "text/html": [
              "<div>\n",
              "<style scoped>\n",
              "    .dataframe tbody tr th:only-of-type {\n",
              "        vertical-align: middle;\n",
              "    }\n",
              "\n",
              "    .dataframe tbody tr th {\n",
              "        vertical-align: top;\n",
              "    }\n",
              "\n",
              "    .dataframe thead tr th {\n",
              "        text-align: left;\n",
              "    }\n",
              "\n",
              "    .dataframe thead tr:last-of-type th {\n",
              "        text-align: right;\n",
              "    }\n",
              "</style>\n",
              "<table border=\"1\" class=\"dataframe\">\n",
              "  <thead>\n",
              "    <tr>\n",
              "      <th></th>\n",
              "      <th colspan=\"4\" halign=\"left\">math score</th>\n",
              "      <th colspan=\"4\" halign=\"left\">reading score</th>\n",
              "      <th colspan=\"4\" halign=\"left\">writing score</th>\n",
              "    </tr>\n",
              "    <tr>\n",
              "      <th></th>\n",
              "      <th>count</th>\n",
              "      <th>mean</th>\n",
              "      <th>min</th>\n",
              "      <th>max</th>\n",
              "      <th>count</th>\n",
              "      <th>mean</th>\n",
              "      <th>min</th>\n",
              "      <th>max</th>\n",
              "      <th>count</th>\n",
              "      <th>mean</th>\n",
              "      <th>min</th>\n",
              "      <th>max</th>\n",
              "    </tr>\n",
              "    <tr>\n",
              "      <th>lunch</th>\n",
              "      <th></th>\n",
              "      <th></th>\n",
              "      <th></th>\n",
              "      <th></th>\n",
              "      <th></th>\n",
              "      <th></th>\n",
              "      <th></th>\n",
              "      <th></th>\n",
              "      <th></th>\n",
              "      <th></th>\n",
              "      <th></th>\n",
              "      <th></th>\n",
              "    </tr>\n",
              "  </thead>\n",
              "  <tbody>\n",
              "    <tr>\n",
              "      <th>free/reduced</th>\n",
              "      <td>166.0</td>\n",
              "      <td>62.457831</td>\n",
              "      <td>27.0</td>\n",
              "      <td>100.0</td>\n",
              "      <td>166.0</td>\n",
              "      <td>61.542169</td>\n",
              "      <td>23.0</td>\n",
              "      <td>100.0</td>\n",
              "      <td>166.0</td>\n",
              "      <td>59.126506</td>\n",
              "      <td>15.0</td>\n",
              "      <td>93.0</td>\n",
              "    </tr>\n",
              "    <tr>\n",
              "      <th>standard</th>\n",
              "      <td>316.0</td>\n",
              "      <td>72.022152</td>\n",
              "      <td>30.0</td>\n",
              "      <td>100.0</td>\n",
              "      <td>316.0</td>\n",
              "      <td>67.537975</td>\n",
              "      <td>26.0</td>\n",
              "      <td>100.0</td>\n",
              "      <td>316.0</td>\n",
              "      <td>65.509494</td>\n",
              "      <td>22.0</td>\n",
              "      <td>100.0</td>\n",
              "    </tr>\n",
              "  </tbody>\n",
              "</table>\n",
              "</div>"
            ],
            "text/plain": [
              "             math score                         reading score             \\\n",
              "                  count       mean   min    max         count       mean   \n",
              "lunch                                                                      \n",
              "free/reduced      166.0  62.457831  27.0  100.0         166.0  61.542169   \n",
              "standard          316.0  72.022152  30.0  100.0         316.0  67.537975   \n",
              "\n",
              "                          writing score                          \n",
              "               min    max         count       mean   min    max  \n",
              "lunch                                                            \n",
              "free/reduced  23.0  100.0         166.0  59.126506  15.0   93.0  \n",
              "standard      26.0  100.0         316.0  65.509494  22.0  100.0  "
            ]
          },
          "execution_count": 47,
          "metadata": {},
          "output_type": "execute_result"
        }
      ]
    },
    {
      "cell_type": "markdown",
      "metadata": {
        "id": "eEEDmprrDC48"
      },
      "source": [
        "**Observações:** os alunos com o tipo de alimenção standard obtiveram uma média superior aos alunos com a alimentação free/reduced "
      ],
      "id": "eEEDmprrDC48"
    },
    {
      "cell_type": "markdown",
      "metadata": {
        "id": "6e758636"
      },
      "source": [
        "**Relação raça/etnia com a notas dos alunos do sexo masculino**"
      ],
      "id": "6e758636"
    },
    {
      "cell_type": "code",
      "metadata": {
        "id": "3d0cbf70",
        "outputId": "4723c81c-cb85-4ea8-bcfa-281c2e69c260"
      },
      "source": [
        "male_df.groupby('race/ethnicity').describe().loc[:,(slice(None),['count','mean', 'min','max'])]"
      ],
      "id": "3d0cbf70",
      "execution_count": null,
      "outputs": [
        {
          "data": {
            "text/html": [
              "<div>\n",
              "<style scoped>\n",
              "    .dataframe tbody tr th:only-of-type {\n",
              "        vertical-align: middle;\n",
              "    }\n",
              "\n",
              "    .dataframe tbody tr th {\n",
              "        vertical-align: top;\n",
              "    }\n",
              "\n",
              "    .dataframe thead tr th {\n",
              "        text-align: left;\n",
              "    }\n",
              "\n",
              "    .dataframe thead tr:last-of-type th {\n",
              "        text-align: right;\n",
              "    }\n",
              "</style>\n",
              "<table border=\"1\" class=\"dataframe\">\n",
              "  <thead>\n",
              "    <tr>\n",
              "      <th></th>\n",
              "      <th colspan=\"4\" halign=\"left\">math score</th>\n",
              "      <th colspan=\"4\" halign=\"left\">reading score</th>\n",
              "      <th colspan=\"4\" halign=\"left\">writing score</th>\n",
              "    </tr>\n",
              "    <tr>\n",
              "      <th></th>\n",
              "      <th>count</th>\n",
              "      <th>mean</th>\n",
              "      <th>min</th>\n",
              "      <th>max</th>\n",
              "      <th>count</th>\n",
              "      <th>mean</th>\n",
              "      <th>min</th>\n",
              "      <th>max</th>\n",
              "      <th>count</th>\n",
              "      <th>mean</th>\n",
              "      <th>min</th>\n",
              "      <th>max</th>\n",
              "    </tr>\n",
              "    <tr>\n",
              "      <th>race/ethnicity</th>\n",
              "      <th></th>\n",
              "      <th></th>\n",
              "      <th></th>\n",
              "      <th></th>\n",
              "      <th></th>\n",
              "      <th></th>\n",
              "      <th></th>\n",
              "      <th></th>\n",
              "      <th></th>\n",
              "      <th></th>\n",
              "      <th></th>\n",
              "      <th></th>\n",
              "    </tr>\n",
              "  </thead>\n",
              "  <tbody>\n",
              "    <tr>\n",
              "      <th>group A</th>\n",
              "      <td>53.0</td>\n",
              "      <td>63.735849</td>\n",
              "      <td>28.0</td>\n",
              "      <td>100.0</td>\n",
              "      <td>53.0</td>\n",
              "      <td>61.735849</td>\n",
              "      <td>23.0</td>\n",
              "      <td>96.0</td>\n",
              "      <td>53.0</td>\n",
              "      <td>59.150943</td>\n",
              "      <td>19.0</td>\n",
              "      <td>92.0</td>\n",
              "    </tr>\n",
              "    <tr>\n",
              "      <th>group B</th>\n",
              "      <td>86.0</td>\n",
              "      <td>65.930233</td>\n",
              "      <td>30.0</td>\n",
              "      <td>94.0</td>\n",
              "      <td>86.0</td>\n",
              "      <td>62.848837</td>\n",
              "      <td>24.0</td>\n",
              "      <td>96.0</td>\n",
              "      <td>86.0</td>\n",
              "      <td>60.220930</td>\n",
              "      <td>15.0</td>\n",
              "      <td>92.0</td>\n",
              "    </tr>\n",
              "    <tr>\n",
              "      <th>group C</th>\n",
              "      <td>139.0</td>\n",
              "      <td>67.611511</td>\n",
              "      <td>27.0</td>\n",
              "      <td>98.0</td>\n",
              "      <td>139.0</td>\n",
              "      <td>65.424460</td>\n",
              "      <td>28.0</td>\n",
              "      <td>100.0</td>\n",
              "      <td>139.0</td>\n",
              "      <td>62.712230</td>\n",
              "      <td>27.0</td>\n",
              "      <td>95.0</td>\n",
              "    </tr>\n",
              "    <tr>\n",
              "      <th>group D</th>\n",
              "      <td>133.0</td>\n",
              "      <td>69.413534</td>\n",
              "      <td>39.0</td>\n",
              "      <td>100.0</td>\n",
              "      <td>133.0</td>\n",
              "      <td>66.135338</td>\n",
              "      <td>34.0</td>\n",
              "      <td>97.0</td>\n",
              "      <td>133.0</td>\n",
              "      <td>65.413534</td>\n",
              "      <td>34.0</td>\n",
              "      <td>99.0</td>\n",
              "    </tr>\n",
              "    <tr>\n",
              "      <th>group E</th>\n",
              "      <td>71.0</td>\n",
              "      <td>76.746479</td>\n",
              "      <td>30.0</td>\n",
              "      <td>100.0</td>\n",
              "      <td>71.0</td>\n",
              "      <td>70.295775</td>\n",
              "      <td>26.0</td>\n",
              "      <td>100.0</td>\n",
              "      <td>71.0</td>\n",
              "      <td>67.394366</td>\n",
              "      <td>22.0</td>\n",
              "      <td>100.0</td>\n",
              "    </tr>\n",
              "  </tbody>\n",
              "</table>\n",
              "</div>"
            ],
            "text/plain": [
              "               math score                         reading score             \\\n",
              "                    count       mean   min    max         count       mean   \n",
              "race/ethnicity                                                               \n",
              "group A              53.0  63.735849  28.0  100.0          53.0  61.735849   \n",
              "group B              86.0  65.930233  30.0   94.0          86.0  62.848837   \n",
              "group C             139.0  67.611511  27.0   98.0         139.0  65.424460   \n",
              "group D             133.0  69.413534  39.0  100.0         133.0  66.135338   \n",
              "group E              71.0  76.746479  30.0  100.0          71.0  70.295775   \n",
              "\n",
              "                            writing score                          \n",
              "                 min    max         count       mean   min    max  \n",
              "race/ethnicity                                                     \n",
              "group A         23.0   96.0          53.0  59.150943  19.0   92.0  \n",
              "group B         24.0   96.0          86.0  60.220930  15.0   92.0  \n",
              "group C         28.0  100.0         139.0  62.712230  27.0   95.0  \n",
              "group D         34.0   97.0         133.0  65.413534  34.0   99.0  \n",
              "group E         26.0  100.0          71.0  67.394366  22.0  100.0  "
            ]
          },
          "execution_count": 48,
          "metadata": {},
          "output_type": "execute_result"
        }
      ]
    },
    {
      "cell_type": "markdown",
      "metadata": {
        "id": "AhpifuolDv3t"
      },
      "source": [
        "**Observações:** os alunos os quais as raças eram do grupo E se sairam melhores nas 3 disciplinas quando comparado as demais raças"
      ],
      "id": "AhpifuolDv3t"
    },
    {
      "cell_type": "markdown",
      "metadata": {
        "id": "e8684283"
      },
      "source": [
        "## Análise dos alunos do sexo feminino"
      ],
      "id": "e8684283"
    },
    {
      "cell_type": "markdown",
      "metadata": {
        "id": "d4f1a1f8"
      },
      "source": [
        "**Relação dos alunos do sexo feminino com as notas**"
      ],
      "id": "d4f1a1f8"
    },
    {
      "cell_type": "code",
      "metadata": {
        "scrolled": true,
        "id": "64c0b137",
        "outputId": "71a6f530-6e8b-40c2-e377-f6cbc6608fdd"
      },
      "source": [
        "sns.pairplot(female_df);"
      ],
      "id": "64c0b137",
      "execution_count": null,
      "outputs": [
        {
          "data": {
            "image/png": "[encoded data removed]",
            "text/plain": [
              "<Figure size 540x540 with 12 Axes>"
            ]
          },
          "metadata": {
            "needs_background": "light"
          },
          "output_type": "display_data"
        }
      ]
    },
    {
      "cell_type": "markdown",
      "metadata": {
        "id": "bc0d293d"
      },
      "source": [
        "**Relação do nível de escolaridade dos pais com a notas dos alunos do sexo feminino**"
      ],
      "id": "bc0d293d"
    },
    {
      "cell_type": "code",
      "metadata": {
        "id": "7e2bd423",
        "outputId": "9441bdd7-3402-40d0-9ac8-bbaba120e00d"
      },
      "source": [
        "female_df.groupby('parental level of education').describe().loc[:,(slice(None),['count','mean', 'min','max'])]"
      ],
      "id": "7e2bd423",
      "execution_count": null,
      "outputs": [
        {
          "data": {
            "text/html": [
              "<div>\n",
              "<style scoped>\n",
              "    .dataframe tbody tr th:only-of-type {\n",
              "        vertical-align: middle;\n",
              "    }\n",
              "\n",
              "    .dataframe tbody tr th {\n",
              "        vertical-align: top;\n",
              "    }\n",
              "\n",
              "    .dataframe thead tr th {\n",
              "        text-align: left;\n",
              "    }\n",
              "\n",
              "    .dataframe thead tr:last-of-type th {\n",
              "        text-align: right;\n",
              "    }\n",
              "</style>\n",
              "<table border=\"1\" class=\"dataframe\">\n",
              "  <thead>\n",
              "    <tr>\n",
              "      <th></th>\n",
              "      <th colspan=\"4\" halign=\"left\">math score</th>\n",
              "      <th colspan=\"4\" halign=\"left\">reading score</th>\n",
              "      <th colspan=\"4\" halign=\"left\">writing score</th>\n",
              "    </tr>\n",
              "    <tr>\n",
              "      <th></th>\n",
              "      <th>count</th>\n",
              "      <th>mean</th>\n",
              "      <th>min</th>\n",
              "      <th>max</th>\n",
              "      <th>count</th>\n",
              "      <th>mean</th>\n",
              "      <th>min</th>\n",
              "      <th>max</th>\n",
              "      <th>count</th>\n",
              "      <th>mean</th>\n",
              "      <th>min</th>\n",
              "      <th>max</th>\n",
              "    </tr>\n",
              "    <tr>\n",
              "      <th>parental level of education</th>\n",
              "      <th></th>\n",
              "      <th></th>\n",
              "      <th></th>\n",
              "      <th></th>\n",
              "      <th></th>\n",
              "      <th></th>\n",
              "      <th></th>\n",
              "      <th></th>\n",
              "      <th></th>\n",
              "      <th></th>\n",
              "      <th></th>\n",
              "      <th></th>\n",
              "    </tr>\n",
              "  </thead>\n",
              "  <tbody>\n",
              "    <tr>\n",
              "      <th>associate's degree</th>\n",
              "      <td>116.0</td>\n",
              "      <td>65.250000</td>\n",
              "      <td>26.0</td>\n",
              "      <td>100.0</td>\n",
              "      <td>116.0</td>\n",
              "      <td>74.120690</td>\n",
              "      <td>31.0</td>\n",
              "      <td>100.0</td>\n",
              "      <td>116.0</td>\n",
              "      <td>74.000000</td>\n",
              "      <td>38.0</td>\n",
              "      <td>100.0</td>\n",
              "    </tr>\n",
              "    <tr>\n",
              "      <th>bachelor's degree</th>\n",
              "      <td>63.0</td>\n",
              "      <td>68.349206</td>\n",
              "      <td>29.0</td>\n",
              "      <td>100.0</td>\n",
              "      <td>63.0</td>\n",
              "      <td>77.285714</td>\n",
              "      <td>41.0</td>\n",
              "      <td>100.0</td>\n",
              "      <td>63.0</td>\n",
              "      <td>78.380952</td>\n",
              "      <td>38.0</td>\n",
              "      <td>100.0</td>\n",
              "    </tr>\n",
              "    <tr>\n",
              "      <th>high school</th>\n",
              "      <td>94.0</td>\n",
              "      <td>59.351064</td>\n",
              "      <td>8.0</td>\n",
              "      <td>99.0</td>\n",
              "      <td>94.0</td>\n",
              "      <td>68.202128</td>\n",
              "      <td>24.0</td>\n",
              "      <td>99.0</td>\n",
              "      <td>94.0</td>\n",
              "      <td>66.691489</td>\n",
              "      <td>23.0</td>\n",
              "      <td>100.0</td>\n",
              "    </tr>\n",
              "    <tr>\n",
              "      <th>master's degree</th>\n",
              "      <td>36.0</td>\n",
              "      <td>66.500000</td>\n",
              "      <td>40.0</td>\n",
              "      <td>94.0</td>\n",
              "      <td>36.0</td>\n",
              "      <td>76.805556</td>\n",
              "      <td>53.0</td>\n",
              "      <td>100.0</td>\n",
              "      <td>36.0</td>\n",
              "      <td>77.638889</td>\n",
              "      <td>54.0</td>\n",
              "      <td>100.0</td>\n",
              "    </tr>\n",
              "    <tr>\n",
              "      <th>some college</th>\n",
              "      <td>118.0</td>\n",
              "      <td>65.406780</td>\n",
              "      <td>19.0</td>\n",
              "      <td>100.0</td>\n",
              "      <td>118.0</td>\n",
              "      <td>73.550847</td>\n",
              "      <td>38.0</td>\n",
              "      <td>100.0</td>\n",
              "      <td>118.0</td>\n",
              "      <td>74.050847</td>\n",
              "      <td>32.0</td>\n",
              "      <td>99.0</td>\n",
              "    </tr>\n",
              "    <tr>\n",
              "      <th>some high school</th>\n",
              "      <td>91.0</td>\n",
              "      <td>59.296703</td>\n",
              "      <td>0.0</td>\n",
              "      <td>97.0</td>\n",
              "      <td>91.0</td>\n",
              "      <td>69.109890</td>\n",
              "      <td>17.0</td>\n",
              "      <td>100.0</td>\n",
              "      <td>91.0</td>\n",
              "      <td>68.285714</td>\n",
              "      <td>10.0</td>\n",
              "      <td>100.0</td>\n",
              "    </tr>\n",
              "  </tbody>\n",
              "</table>\n",
              "</div>"
            ],
            "text/plain": [
              "                            math score                         reading score  \\\n",
              "                                 count       mean   min    max         count   \n",
              "parental level of education                                                    \n",
              "associate's degree               116.0  65.250000  26.0  100.0         116.0   \n",
              "bachelor's degree                 63.0  68.349206  29.0  100.0          63.0   \n",
              "high school                       94.0  59.351064   8.0   99.0          94.0   \n",
              "master's degree                   36.0  66.500000  40.0   94.0          36.0   \n",
              "some college                     118.0  65.406780  19.0  100.0         118.0   \n",
              "some high school                  91.0  59.296703   0.0   97.0          91.0   \n",
              "\n",
              "                                                    writing score             \\\n",
              "                                  mean   min    max         count       mean   \n",
              "parental level of education                                                    \n",
              "associate's degree           74.120690  31.0  100.0         116.0  74.000000   \n",
              "bachelor's degree            77.285714  41.0  100.0          63.0  78.380952   \n",
              "high school                  68.202128  24.0   99.0          94.0  66.691489   \n",
              "master's degree              76.805556  53.0  100.0          36.0  77.638889   \n",
              "some college                 73.550847  38.0  100.0         118.0  74.050847   \n",
              "some high school             69.109890  17.0  100.0          91.0  68.285714   \n",
              "\n",
              "                                          \n",
              "                              min    max  \n",
              "parental level of education               \n",
              "associate's degree           38.0  100.0  \n",
              "bachelor's degree            38.0  100.0  \n",
              "high school                  23.0  100.0  \n",
              "master's degree              54.0  100.0  \n",
              "some college                 32.0   99.0  \n",
              "some high school             10.0  100.0  "
            ]
          },
          "execution_count": 50,
          "metadata": {},
          "output_type": "execute_result"
        }
      ]
    },
    {
      "cell_type": "markdown",
      "metadata": {
        "id": "aKL2XZYVEBQT"
      },
      "source": [
        "**Observações:** diferentemente no que ocorreu no sexo masculino, os alunos do sexo feminino cujos pais tinha como graduação o bachelor's degree tiveram uma média maior nas três disciplinas quando comparado com as demais formações"
      ],
      "id": "aKL2XZYVEBQT"
    },
    {
      "cell_type": "markdown",
      "metadata": {
        "id": "384c6236"
      },
      "source": [
        "**Relação do tipo de alimentação com a notas dos alunos do sexo feminino**"
      ],
      "id": "384c6236"
    },
    {
      "cell_type": "code",
      "metadata": {
        "id": "e9b3f784",
        "outputId": "85899981-1ce0-4b6b-e829-79c89944354b"
      },
      "source": [
        "female_df.groupby('lunch').describe().loc[:,(slice(None),['count','mean', 'min','max'])]"
      ],
      "id": "e9b3f784",
      "execution_count": null,
      "outputs": [
        {
          "data": {
            "text/html": [
              "<div>\n",
              "<style scoped>\n",
              "    .dataframe tbody tr th:only-of-type {\n",
              "        vertical-align: middle;\n",
              "    }\n",
              "\n",
              "    .dataframe tbody tr th {\n",
              "        vertical-align: top;\n",
              "    }\n",
              "\n",
              "    .dataframe thead tr th {\n",
              "        text-align: left;\n",
              "    }\n",
              "\n",
              "    .dataframe thead tr:last-of-type th {\n",
              "        text-align: right;\n",
              "    }\n",
              "</style>\n",
              "<table border=\"1\" class=\"dataframe\">\n",
              "  <thead>\n",
              "    <tr>\n",
              "      <th></th>\n",
              "      <th colspan=\"4\" halign=\"left\">math score</th>\n",
              "      <th colspan=\"4\" halign=\"left\">reading score</th>\n",
              "      <th colspan=\"4\" halign=\"left\">writing score</th>\n",
              "    </tr>\n",
              "    <tr>\n",
              "      <th></th>\n",
              "      <th>count</th>\n",
              "      <th>mean</th>\n",
              "      <th>min</th>\n",
              "      <th>max</th>\n",
              "      <th>count</th>\n",
              "      <th>mean</th>\n",
              "      <th>min</th>\n",
              "      <th>max</th>\n",
              "      <th>count</th>\n",
              "      <th>mean</th>\n",
              "      <th>min</th>\n",
              "      <th>max</th>\n",
              "    </tr>\n",
              "    <tr>\n",
              "      <th>lunch</th>\n",
              "      <th></th>\n",
              "      <th></th>\n",
              "      <th></th>\n",
              "      <th></th>\n",
              "      <th></th>\n",
              "      <th></th>\n",
              "      <th></th>\n",
              "      <th></th>\n",
              "      <th></th>\n",
              "      <th></th>\n",
              "      <th></th>\n",
              "      <th></th>\n",
              "    </tr>\n",
              "  </thead>\n",
              "  <tbody>\n",
              "    <tr>\n",
              "      <th>free/reduced</th>\n",
              "      <td>189.0</td>\n",
              "      <td>55.814815</td>\n",
              "      <td>0.0</td>\n",
              "      <td>93.0</td>\n",
              "      <td>189.0</td>\n",
              "      <td>67.386243</td>\n",
              "      <td>17.0</td>\n",
              "      <td>100.0</td>\n",
              "      <td>189.0</td>\n",
              "      <td>66.444444</td>\n",
              "      <td>10.0</td>\n",
              "      <td>100.0</td>\n",
              "    </tr>\n",
              "    <tr>\n",
              "      <th>standard</th>\n",
              "      <td>329.0</td>\n",
              "      <td>68.124620</td>\n",
              "      <td>19.0</td>\n",
              "      <td>100.0</td>\n",
              "      <td>329.0</td>\n",
              "      <td>75.607903</td>\n",
              "      <td>29.0</td>\n",
              "      <td>100.0</td>\n",
              "      <td>329.0</td>\n",
              "      <td>75.927052</td>\n",
              "      <td>30.0</td>\n",
              "      <td>100.0</td>\n",
              "    </tr>\n",
              "  </tbody>\n",
              "</table>\n",
              "</div>"
            ],
            "text/plain": [
              "             math score                         reading score             \\\n",
              "                  count       mean   min    max         count       mean   \n",
              "lunch                                                                      \n",
              "free/reduced      189.0  55.814815   0.0   93.0         189.0  67.386243   \n",
              "standard          329.0  68.124620  19.0  100.0         329.0  75.607903   \n",
              "\n",
              "                          writing score                          \n",
              "               min    max         count       mean   min    max  \n",
              "lunch                                                            \n",
              "free/reduced  17.0  100.0         189.0  66.444444  10.0  100.0  \n",
              "standard      29.0  100.0         329.0  75.927052  30.0  100.0  "
            ]
          },
          "execution_count": 51,
          "metadata": {},
          "output_type": "execute_result"
        }
      ]
    },
    {
      "cell_type": "markdown",
      "metadata": {
        "id": "63jDCLQJEazl"
      },
      "source": [
        "**Observações:** os alunos do sexo feminino cuja alimentção era do tipo standard tem uma maior probabilidade de ter uma nota boa quando comparado ao modelo free/reduced"
      ],
      "id": "63jDCLQJEazl"
    },
    {
      "cell_type": "markdown",
      "metadata": {
        "id": "ffaa4c39"
      },
      "source": [
        "**Relação raça/etnia com a notas dos alunos do sexo feminino**"
      ],
      "id": "ffaa4c39"
    },
    {
      "cell_type": "code",
      "metadata": {
        "id": "c90d550f",
        "outputId": "6d8affa1-f3c8-49d4-c1d3-1b897be14c01"
      },
      "source": [
        "female_df.groupby('race/ethnicity').describe().loc[:,(slice(None),['count','mean', 'min','max'])]"
      ],
      "id": "c90d550f",
      "execution_count": null,
      "outputs": [
        {
          "data": {
            "text/html": [
              "<div>\n",
              "<style scoped>\n",
              "    .dataframe tbody tr th:only-of-type {\n",
              "        vertical-align: middle;\n",
              "    }\n",
              "\n",
              "    .dataframe tbody tr th {\n",
              "        vertical-align: top;\n",
              "    }\n",
              "\n",
              "    .dataframe thead tr th {\n",
              "        text-align: left;\n",
              "    }\n",
              "\n",
              "    .dataframe thead tr:last-of-type th {\n",
              "        text-align: right;\n",
              "    }\n",
              "</style>\n",
              "<table border=\"1\" class=\"dataframe\">\n",
              "  <thead>\n",
              "    <tr>\n",
              "      <th></th>\n",
              "      <th colspan=\"4\" halign=\"left\">math score</th>\n",
              "      <th colspan=\"4\" halign=\"left\">reading score</th>\n",
              "      <th colspan=\"4\" halign=\"left\">writing score</th>\n",
              "    </tr>\n",
              "    <tr>\n",
              "      <th></th>\n",
              "      <th>count</th>\n",
              "      <th>mean</th>\n",
              "      <th>min</th>\n",
              "      <th>max</th>\n",
              "      <th>count</th>\n",
              "      <th>mean</th>\n",
              "      <th>min</th>\n",
              "      <th>max</th>\n",
              "      <th>count</th>\n",
              "      <th>mean</th>\n",
              "      <th>min</th>\n",
              "      <th>max</th>\n",
              "    </tr>\n",
              "    <tr>\n",
              "      <th>race/ethnicity</th>\n",
              "      <th></th>\n",
              "      <th></th>\n",
              "      <th></th>\n",
              "      <th></th>\n",
              "      <th></th>\n",
              "      <th></th>\n",
              "      <th></th>\n",
              "      <th></th>\n",
              "      <th></th>\n",
              "      <th></th>\n",
              "      <th></th>\n",
              "      <th></th>\n",
              "    </tr>\n",
              "  </thead>\n",
              "  <tbody>\n",
              "    <tr>\n",
              "      <th>group A</th>\n",
              "      <td>36.0</td>\n",
              "      <td>58.527778</td>\n",
              "      <td>34.0</td>\n",
              "      <td>92.0</td>\n",
              "      <td>36.0</td>\n",
              "      <td>69.000000</td>\n",
              "      <td>43.0</td>\n",
              "      <td>100.0</td>\n",
              "      <td>36.0</td>\n",
              "      <td>67.861111</td>\n",
              "      <td>41.0</td>\n",
              "      <td>97.0</td>\n",
              "    </tr>\n",
              "    <tr>\n",
              "      <th>group B</th>\n",
              "      <td>104.0</td>\n",
              "      <td>61.403846</td>\n",
              "      <td>8.0</td>\n",
              "      <td>97.0</td>\n",
              "      <td>104.0</td>\n",
              "      <td>71.076923</td>\n",
              "      <td>24.0</td>\n",
              "      <td>97.0</td>\n",
              "      <td>104.0</td>\n",
              "      <td>70.048077</td>\n",
              "      <td>23.0</td>\n",
              "      <td>96.0</td>\n",
              "    </tr>\n",
              "    <tr>\n",
              "      <th>group C</th>\n",
              "      <td>180.0</td>\n",
              "      <td>62.033333</td>\n",
              "      <td>0.0</td>\n",
              "      <td>96.0</td>\n",
              "      <td>180.0</td>\n",
              "      <td>71.944444</td>\n",
              "      <td>17.0</td>\n",
              "      <td>100.0</td>\n",
              "      <td>180.0</td>\n",
              "      <td>71.777778</td>\n",
              "      <td>10.0</td>\n",
              "      <td>100.0</td>\n",
              "    </tr>\n",
              "    <tr>\n",
              "      <th>group D</th>\n",
              "      <td>129.0</td>\n",
              "      <td>65.248062</td>\n",
              "      <td>26.0</td>\n",
              "      <td>98.0</td>\n",
              "      <td>129.0</td>\n",
              "      <td>74.046512</td>\n",
              "      <td>31.0</td>\n",
              "      <td>100.0</td>\n",
              "      <td>129.0</td>\n",
              "      <td>75.023256</td>\n",
              "      <td>32.0</td>\n",
              "      <td>100.0</td>\n",
              "    </tr>\n",
              "    <tr>\n",
              "      <th>group E</th>\n",
              "      <td>69.0</td>\n",
              "      <td>70.811594</td>\n",
              "      <td>32.0</td>\n",
              "      <td>100.0</td>\n",
              "      <td>69.0</td>\n",
              "      <td>75.840580</td>\n",
              "      <td>34.0</td>\n",
              "      <td>100.0</td>\n",
              "      <td>69.0</td>\n",
              "      <td>75.536232</td>\n",
              "      <td>38.0</td>\n",
              "      <td>100.0</td>\n",
              "    </tr>\n",
              "  </tbody>\n",
              "</table>\n",
              "</div>"
            ],
            "text/plain": [
              "               math score                         reading score             \\\n",
              "                    count       mean   min    max         count       mean   \n",
              "race/ethnicity                                                               \n",
              "group A              36.0  58.527778  34.0   92.0          36.0  69.000000   \n",
              "group B             104.0  61.403846   8.0   97.0         104.0  71.076923   \n",
              "group C             180.0  62.033333   0.0   96.0         180.0  71.944444   \n",
              "group D             129.0  65.248062  26.0   98.0         129.0  74.046512   \n",
              "group E              69.0  70.811594  32.0  100.0          69.0  75.840580   \n",
              "\n",
              "                            writing score                          \n",
              "                 min    max         count       mean   min    max  \n",
              "race/ethnicity                                                     \n",
              "group A         43.0  100.0          36.0  67.861111  41.0   97.0  \n",
              "group B         24.0   97.0         104.0  70.048077  23.0   96.0  \n",
              "group C         17.0  100.0         180.0  71.777778  10.0  100.0  \n",
              "group D         31.0  100.0         129.0  75.023256  32.0  100.0  \n",
              "group E         34.0  100.0          69.0  75.536232  38.0  100.0  "
            ]
          },
          "execution_count": 52,
          "metadata": {},
          "output_type": "execute_result"
        }
      ]
    },
    {
      "cell_type": "markdown",
      "metadata": {
        "id": "zKRMnxw6ErYW"
      },
      "source": [
        "**Observações:** os alunos do sexo feminino cuja raça é do grupo E tem uma maior chance de ter uma nota superior a média das demais raças"
      ],
      "id": "zKRMnxw6ErYW"
    },
    {
      "cell_type": "markdown",
      "metadata": {
        "id": "de9fd7af"
      },
      "source": [
        "### ANALISES DOS DADOS OBTIDOS"
      ],
      "id": "de9fd7af"
    },
    {
      "cell_type": "markdown",
      "metadata": {
        "id": "00QM-I_w6P9j"
      },
      "source": [
        "comparação das médias em Math dos alunos do sexo masculino e feminino"
      ],
      "id": "00QM-I_w6P9j"
    },
    {
      "cell_type": "code",
      "metadata": {
        "colab": {
          "base_uri": "https://localhost:8080/",
          "height": 143
        },
        "id": "kftxqkE94Z5c",
        "outputId": "b719feb3-771e-4437-85aa-3b955492d368"
      },
      "source": [
        "df_genero = df[['gender','math score']].groupby('gender').mean()\n",
        "display(df_genero)"
      ],
      "id": "kftxqkE94Z5c",
      "execution_count": 8,
      "outputs": [
        {
          "output_type": "display_data",
          "data": {
            "text/html": [
              "<div>\n",
              "<style scoped>\n",
              "    .dataframe tbody tr th:only-of-type {\n",
              "        vertical-align: middle;\n",
              "    }\n",
              "\n",
              "    .dataframe tbody tr th {\n",
              "        vertical-align: top;\n",
              "    }\n",
              "\n",
              "    .dataframe thead th {\n",
              "        text-align: right;\n",
              "    }\n",
              "</style>\n",
              "<table border=\"1\" class=\"dataframe\">\n",
              "  <thead>\n",
              "    <tr style=\"text-align: right;\">\n",
              "      <th></th>\n",
              "      <th>math score</th>\n",
              "    </tr>\n",
              "    <tr>\n",
              "      <th>gender</th>\n",
              "      <th></th>\n",
              "    </tr>\n",
              "  </thead>\n",
              "  <tbody>\n",
              "    <tr>\n",
              "      <th>female</th>\n",
              "      <td>63.633205</td>\n",
              "    </tr>\n",
              "    <tr>\n",
              "      <th>male</th>\n",
              "      <td>68.728216</td>\n",
              "    </tr>\n",
              "  </tbody>\n",
              "</table>\n",
              "</div>"
            ],
            "text/plain": [
              "        math score\n",
              "gender            \n",
              "female   63.633205\n",
              "male     68.728216"
            ]
          },
          "metadata": {}
        }
      ]
    },
    {
      "cell_type": "markdown",
      "metadata": {
        "id": "-pa-TVKW6dnK"
      },
      "source": [
        "**Observações:** a média dos alunos do sexo masculino foram superiores"
      ],
      "id": "-pa-TVKW6dnK"
    },
    {
      "cell_type": "markdown",
      "metadata": {
        "id": "IfG3Uaiy6rke"
      },
      "source": [
        "comparação das médias em Math dos alunos em relação a graduação dos pais"
      ],
      "id": "IfG3Uaiy6rke"
    },
    {
      "cell_type": "code",
      "metadata": {
        "colab": {
          "base_uri": "https://localhost:8080/",
          "height": 268
        },
        "id": "AlJXb_Bz42Hw",
        "outputId": "b258d3a0-2e9e-4270-a50b-661c111df59a"
      },
      "source": [
        "df_parental = df[['parental level of education','math score']].groupby('parental level of education').mean()\n",
        "display(df_parental)"
      ],
      "id": "AlJXb_Bz42Hw",
      "execution_count": 9,
      "outputs": [
        {
          "output_type": "display_data",
          "data": {
            "text/html": [
              "<div>\n",
              "<style scoped>\n",
              "    .dataframe tbody tr th:only-of-type {\n",
              "        vertical-align: middle;\n",
              "    }\n",
              "\n",
              "    .dataframe tbody tr th {\n",
              "        vertical-align: top;\n",
              "    }\n",
              "\n",
              "    .dataframe thead th {\n",
              "        text-align: right;\n",
              "    }\n",
              "</style>\n",
              "<table border=\"1\" class=\"dataframe\">\n",
              "  <thead>\n",
              "    <tr style=\"text-align: right;\">\n",
              "      <th></th>\n",
              "      <th>math score</th>\n",
              "    </tr>\n",
              "    <tr>\n",
              "      <th>parental level of education</th>\n",
              "      <th></th>\n",
              "    </tr>\n",
              "  </thead>\n",
              "  <tbody>\n",
              "    <tr>\n",
              "      <th>associate's degree</th>\n",
              "      <td>67.882883</td>\n",
              "    </tr>\n",
              "    <tr>\n",
              "      <th>bachelor's degree</th>\n",
              "      <td>69.389831</td>\n",
              "    </tr>\n",
              "    <tr>\n",
              "      <th>high school</th>\n",
              "      <td>62.137755</td>\n",
              "    </tr>\n",
              "    <tr>\n",
              "      <th>master's degree</th>\n",
              "      <td>69.745763</td>\n",
              "    </tr>\n",
              "    <tr>\n",
              "      <th>some college</th>\n",
              "      <td>67.128319</td>\n",
              "    </tr>\n",
              "    <tr>\n",
              "      <th>some high school</th>\n",
              "      <td>63.497207</td>\n",
              "    </tr>\n",
              "  </tbody>\n",
              "</table>\n",
              "</div>"
            ],
            "text/plain": [
              "                             math score\n",
              "parental level of education            \n",
              "associate's degree            67.882883\n",
              "bachelor's degree             69.389831\n",
              "high school                   62.137755\n",
              "master's degree               69.745763\n",
              "some college                  67.128319\n",
              "some high school              63.497207"
            ]
          },
          "metadata": {}
        }
      ]
    },
    {
      "cell_type": "markdown",
      "metadata": {
        "id": "1I90k0Wg8SRy"
      },
      "source": [
        "**Oberservação:** Nota-se também uma relação no desempenho dos alunos com a graduação dos pais. ConcluIndo que os filhos cujos pais têm master's degree, obtitiveram as maiores médias"
      ],
      "id": "1I90k0Wg8SRy"
    },
    {
      "cell_type": "markdown",
      "metadata": {
        "id": "ruhXKbXw8lMX"
      },
      "source": [
        "Comparando as maiores e menores notas em relação a formação dos pais"
      ],
      "id": "ruhXKbXw8lMX"
    },
    {
      "cell_type": "code",
      "metadata": {
        "colab": {
          "base_uri": "https://localhost:8080/",
          "height": 519
        },
        "id": "A6hJy3Zx5k2N",
        "outputId": "afb74952-2025-4d87-eb2a-be61eb40cce9"
      },
      "source": [
        "df_parental2 = df[['parental level of education','math score']].groupby('parental level of education').min()\n",
        "display(df_parental2)\n",
        "df_parental22 = df[['parental level of education','math score']].groupby('parental level of education').max()\n",
        "display(df_parental22)"
      ],
      "id": "A6hJy3Zx5k2N",
      "execution_count": 10,
      "outputs": [
        {
          "output_type": "display_data",
          "data": {
            "text/html": [
              "<div>\n",
              "<style scoped>\n",
              "    .dataframe tbody tr th:only-of-type {\n",
              "        vertical-align: middle;\n",
              "    }\n",
              "\n",
              "    .dataframe tbody tr th {\n",
              "        vertical-align: top;\n",
              "    }\n",
              "\n",
              "    .dataframe thead th {\n",
              "        text-align: right;\n",
              "    }\n",
              "</style>\n",
              "<table border=\"1\" class=\"dataframe\">\n",
              "  <thead>\n",
              "    <tr style=\"text-align: right;\">\n",
              "      <th></th>\n",
              "      <th>math score</th>\n",
              "    </tr>\n",
              "    <tr>\n",
              "      <th>parental level of education</th>\n",
              "      <th></th>\n",
              "    </tr>\n",
              "  </thead>\n",
              "  <tbody>\n",
              "    <tr>\n",
              "      <th>associate's degree</th>\n",
              "      <td>26</td>\n",
              "    </tr>\n",
              "    <tr>\n",
              "      <th>bachelor's degree</th>\n",
              "      <td>29</td>\n",
              "    </tr>\n",
              "    <tr>\n",
              "      <th>high school</th>\n",
              "      <td>8</td>\n",
              "    </tr>\n",
              "    <tr>\n",
              "      <th>master's degree</th>\n",
              "      <td>40</td>\n",
              "    </tr>\n",
              "    <tr>\n",
              "      <th>some college</th>\n",
              "      <td>19</td>\n",
              "    </tr>\n",
              "    <tr>\n",
              "      <th>some high school</th>\n",
              "      <td>0</td>\n",
              "    </tr>\n",
              "  </tbody>\n",
              "</table>\n",
              "</div>"
            ],
            "text/plain": [
              "                             math score\n",
              "parental level of education            \n",
              "associate's degree                   26\n",
              "bachelor's degree                    29\n",
              "high school                           8\n",
              "master's degree                      40\n",
              "some college                         19\n",
              "some high school                      0"
            ]
          },
          "metadata": {}
        },
        {
          "output_type": "display_data",
          "data": {
            "text/html": [
              "<div>\n",
              "<style scoped>\n",
              "    .dataframe tbody tr th:only-of-type {\n",
              "        vertical-align: middle;\n",
              "    }\n",
              "\n",
              "    .dataframe tbody tr th {\n",
              "        vertical-align: top;\n",
              "    }\n",
              "\n",
              "    .dataframe thead th {\n",
              "        text-align: right;\n",
              "    }\n",
              "</style>\n",
              "<table border=\"1\" class=\"dataframe\">\n",
              "  <thead>\n",
              "    <tr style=\"text-align: right;\">\n",
              "      <th></th>\n",
              "      <th>math score</th>\n",
              "    </tr>\n",
              "    <tr>\n",
              "      <th>parental level of education</th>\n",
              "      <th></th>\n",
              "    </tr>\n",
              "  </thead>\n",
              "  <tbody>\n",
              "    <tr>\n",
              "      <th>associate's degree</th>\n",
              "      <td>100</td>\n",
              "    </tr>\n",
              "    <tr>\n",
              "      <th>bachelor's degree</th>\n",
              "      <td>100</td>\n",
              "    </tr>\n",
              "    <tr>\n",
              "      <th>high school</th>\n",
              "      <td>99</td>\n",
              "    </tr>\n",
              "    <tr>\n",
              "      <th>master's degree</th>\n",
              "      <td>95</td>\n",
              "    </tr>\n",
              "    <tr>\n",
              "      <th>some college</th>\n",
              "      <td>100</td>\n",
              "    </tr>\n",
              "    <tr>\n",
              "      <th>some high school</th>\n",
              "      <td>97</td>\n",
              "    </tr>\n",
              "  </tbody>\n",
              "</table>\n",
              "</div>"
            ],
            "text/plain": [
              "                             math score\n",
              "parental level of education            \n",
              "associate's degree                  100\n",
              "bachelor's degree                   100\n",
              "high school                          99\n",
              "master's degree                      95\n",
              "some college                        100\n",
              "some high school                     97"
            ]
          },
          "metadata": {}
        }
      ]
    },
    {
      "cell_type": "markdown",
      "metadata": {
        "id": "s0ka_dqb8vBH"
      },
      "source": [
        "**Observação:** Analisando as maiores e menores notas em relação a formação dos pais, foi revelado que a menor e a maior nota, respectivamente, foram de alunos que os pais tinham a formação some high school e bachelor's degree"
      ],
      "id": "s0ka_dqb8vBH"
    },
    {
      "cell_type": "code",
      "metadata": {
        "id": "_TxFiMkj6DW0"
      },
      "source": [
        ""
      ],
      "id": "_TxFiMkj6DW0",
      "execution_count": null,
      "outputs": []
    }
  ]
}